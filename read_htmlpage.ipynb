{
 "cells": [
  {
   "cell_type": "code",
   "execution_count": 1,
   "metadata": {},
   "outputs": [],
   "source": [
    "import pandas as pd"
   ]
  },
  {
   "cell_type": "code",
   "execution_count": 2,
   "metadata": {},
   "outputs": [],
   "source": [
    "url = 'https://en.wikipedia.org/wiki/List_of_countries_by_GDP_(nominal)'"
   ]
  },
  {
   "cell_type": "code",
   "execution_count": 5,
   "metadata": {},
   "outputs": [
    {
     "data": {
      "text/html": [
       "<div>\n",
       "<style scoped>\n",
       "    .dataframe tbody tr th:only-of-type {\n",
       "        vertical-align: middle;\n",
       "    }\n",
       "\n",
       "    .dataframe tbody tr th {\n",
       "        vertical-align: top;\n",
       "    }\n",
       "\n",
       "    .dataframe thead th {\n",
       "        text-align: right;\n",
       "    }\n",
       "</style>\n",
       "<table border=\"1\" class=\"dataframe\">\n",
       "  <thead>\n",
       "    <tr style=\"text-align: right;\">\n",
       "      <th></th>\n",
       "      <th>Country/Territory</th>\n",
       "      <th>UN Region</th>\n",
       "      <th>Estimate</th>\n",
       "      <th>Year</th>\n",
       "      <th>Estimate.1</th>\n",
       "      <th>Year.1</th>\n",
       "      <th>Estimate.2</th>\n",
       "      <th>Year.2</th>\n",
       "    </tr>\n",
       "  </thead>\n",
       "  <tbody>\n",
       "    <tr>\n",
       "      <th>0</th>\n",
       "      <td>World</td>\n",
       "      <td>-</td>\n",
       "      <td>93863851</td>\n",
       "      <td>2021</td>\n",
       "      <td>87461674</td>\n",
       "      <td>2020</td>\n",
       "      <td>84705567</td>\n",
       "      <td>2020</td>\n",
       "    </tr>\n",
       "    <tr>\n",
       "      <th>1</th>\n",
       "      <td>United States</td>\n",
       "      <td>Americas</td>\n",
       "      <td>25346805</td>\n",
       "      <td>2022</td>\n",
       "      <td>20893746</td>\n",
       "      <td>2020</td>\n",
       "      <td>20936600</td>\n",
       "      <td>2020</td>\n",
       "    </tr>\n",
       "    <tr>\n",
       "      <th>2</th>\n",
       "      <td>China</td>\n",
       "      <td>Asia</td>\n",
       "      <td>19911593</td>\n",
       "      <td>[n 2]2022</td>\n",
       "      <td>14722801</td>\n",
       "      <td>[n 3]2020</td>\n",
       "      <td>14722731</td>\n",
       "      <td>2020</td>\n",
       "    </tr>\n",
       "    <tr>\n",
       "      <th>3</th>\n",
       "      <td>Japan</td>\n",
       "      <td>Asia</td>\n",
       "      <td>4912147</td>\n",
       "      <td>2022</td>\n",
       "      <td>5057759</td>\n",
       "      <td>2020</td>\n",
       "      <td>4975415</td>\n",
       "      <td>2020</td>\n",
       "    </tr>\n",
       "    <tr>\n",
       "      <th>4</th>\n",
       "      <td>Germany</td>\n",
       "      <td>Europe</td>\n",
       "      <td>4256540</td>\n",
       "      <td>2022</td>\n",
       "      <td>3846414</td>\n",
       "      <td>2020</td>\n",
       "      <td>3806060</td>\n",
       "      <td>2020</td>\n",
       "    </tr>\n",
       "    <tr>\n",
       "      <th>...</th>\n",
       "      <td>...</td>\n",
       "      <td>...</td>\n",
       "      <td>...</td>\n",
       "      <td>...</td>\n",
       "      <td>...</td>\n",
       "      <td>...</td>\n",
       "      <td>...</td>\n",
       "      <td>...</td>\n",
       "    </tr>\n",
       "    <tr>\n",
       "      <th>212</th>\n",
       "      <td>Palau</td>\n",
       "      <td>Oceania</td>\n",
       "      <td>244</td>\n",
       "      <td>2022</td>\n",
       "      <td>264</td>\n",
       "      <td>2020</td>\n",
       "      <td>268</td>\n",
       "      <td>2019</td>\n",
       "    </tr>\n",
       "    <tr>\n",
       "      <th>213</th>\n",
       "      <td>Kiribati</td>\n",
       "      <td>Oceania</td>\n",
       "      <td>216</td>\n",
       "      <td>2022</td>\n",
       "      <td>181</td>\n",
       "      <td>2020</td>\n",
       "      <td>200</td>\n",
       "      <td>2020</td>\n",
       "    </tr>\n",
       "    <tr>\n",
       "      <th>214</th>\n",
       "      <td>Nauru</td>\n",
       "      <td>Oceania</td>\n",
       "      <td>134</td>\n",
       "      <td>2022</td>\n",
       "      <td>135</td>\n",
       "      <td>2020</td>\n",
       "      <td>118</td>\n",
       "      <td>2019</td>\n",
       "    </tr>\n",
       "    <tr>\n",
       "      <th>215</th>\n",
       "      <td>Montserrat</td>\n",
       "      <td>Americas</td>\n",
       "      <td>—</td>\n",
       "      <td>—</td>\n",
       "      <td>68</td>\n",
       "      <td>2020</td>\n",
       "      <td>—</td>\n",
       "      <td>—</td>\n",
       "    </tr>\n",
       "    <tr>\n",
       "      <th>216</th>\n",
       "      <td>Tuvalu</td>\n",
       "      <td>Oceania</td>\n",
       "      <td>66</td>\n",
       "      <td>2022</td>\n",
       "      <td>55</td>\n",
       "      <td>2020</td>\n",
       "      <td>49</td>\n",
       "      <td>2020</td>\n",
       "    </tr>\n",
       "  </tbody>\n",
       "</table>\n",
       "<p>217 rows × 8 columns</p>\n",
       "</div>"
      ],
      "text/plain": [
       "    Country/Territory UN Region  Estimate       Year Estimate.1     Year.1  \\\n",
       "0               World         -  93863851       2021   87461674       2020   \n",
       "1       United States  Americas  25346805       2022   20893746       2020   \n",
       "2               China      Asia  19911593  [n 2]2022   14722801  [n 3]2020   \n",
       "3               Japan      Asia   4912147       2022    5057759       2020   \n",
       "4             Germany    Europe   4256540       2022    3846414       2020   \n",
       "..                ...       ...       ...        ...        ...        ...   \n",
       "212             Palau   Oceania       244       2022        264       2020   \n",
       "213          Kiribati   Oceania       216       2022        181       2020   \n",
       "214             Nauru   Oceania       134       2022        135       2020   \n",
       "215        Montserrat  Americas         —          —         68       2020   \n",
       "216            Tuvalu   Oceania        66       2022         55       2020   \n",
       "\n",
       "    Estimate.2 Year.2  \n",
       "0     84705567   2020  \n",
       "1     20936600   2020  \n",
       "2     14722731   2020  \n",
       "3      4975415   2020  \n",
       "4      3806060   2020  \n",
       "..         ...    ...  \n",
       "212        268   2019  \n",
       "213        200   2020  \n",
       "214        118   2019  \n",
       "215          —      —  \n",
       "216         49   2020  \n",
       "\n",
       "[217 rows x 8 columns]"
      ]
     },
     "execution_count": 5,
     "metadata": {},
     "output_type": "execute_result"
    }
   ],
   "source": [
    "countries = pd.read_html(url,header=1)\n",
    "countries[0]"
   ]
  },
  {
   "cell_type": "code",
   "execution_count": 6,
   "metadata": {},
   "outputs": [],
   "source": [
    "df_countries = countries[0]"
   ]
  },
  {
   "cell_type": "code",
   "execution_count": 7,
   "metadata": {},
   "outputs": [
    {
     "data": {
      "text/html": [
       "<div>\n",
       "<style scoped>\n",
       "    .dataframe tbody tr th:only-of-type {\n",
       "        vertical-align: middle;\n",
       "    }\n",
       "\n",
       "    .dataframe tbody tr th {\n",
       "        vertical-align: top;\n",
       "    }\n",
       "\n",
       "    .dataframe thead th {\n",
       "        text-align: right;\n",
       "    }\n",
       "</style>\n",
       "<table border=\"1\" class=\"dataframe\">\n",
       "  <thead>\n",
       "    <tr style=\"text-align: right;\">\n",
       "      <th></th>\n",
       "      <th>Country/Territory</th>\n",
       "      <th>UN Region</th>\n",
       "      <th>Estimate</th>\n",
       "      <th>Year</th>\n",
       "      <th>Estimate.1</th>\n",
       "      <th>Year.1</th>\n",
       "      <th>Estimate.2</th>\n",
       "      <th>Year.2</th>\n",
       "    </tr>\n",
       "  </thead>\n",
       "  <tbody>\n",
       "    <tr>\n",
       "      <th>0</th>\n",
       "      <td>World</td>\n",
       "      <td>-</td>\n",
       "      <td>93863851</td>\n",
       "      <td>2021</td>\n",
       "      <td>87461674</td>\n",
       "      <td>2020</td>\n",
       "      <td>84705567</td>\n",
       "      <td>2020</td>\n",
       "    </tr>\n",
       "    <tr>\n",
       "      <th>1</th>\n",
       "      <td>United States</td>\n",
       "      <td>Americas</td>\n",
       "      <td>25346805</td>\n",
       "      <td>2022</td>\n",
       "      <td>20893746</td>\n",
       "      <td>2020</td>\n",
       "      <td>20936600</td>\n",
       "      <td>2020</td>\n",
       "    </tr>\n",
       "    <tr>\n",
       "      <th>2</th>\n",
       "      <td>China</td>\n",
       "      <td>Asia</td>\n",
       "      <td>19911593</td>\n",
       "      <td>[n 2]2022</td>\n",
       "      <td>14722801</td>\n",
       "      <td>[n 3]2020</td>\n",
       "      <td>14722731</td>\n",
       "      <td>2020</td>\n",
       "    </tr>\n",
       "    <tr>\n",
       "      <th>3</th>\n",
       "      <td>Japan</td>\n",
       "      <td>Asia</td>\n",
       "      <td>4912147</td>\n",
       "      <td>2022</td>\n",
       "      <td>5057759</td>\n",
       "      <td>2020</td>\n",
       "      <td>4975415</td>\n",
       "      <td>2020</td>\n",
       "    </tr>\n",
       "    <tr>\n",
       "      <th>4</th>\n",
       "      <td>Germany</td>\n",
       "      <td>Europe</td>\n",
       "      <td>4256540</td>\n",
       "      <td>2022</td>\n",
       "      <td>3846414</td>\n",
       "      <td>2020</td>\n",
       "      <td>3806060</td>\n",
       "      <td>2020</td>\n",
       "    </tr>\n",
       "  </tbody>\n",
       "</table>\n",
       "</div>"
      ],
      "text/plain": [
       "  Country/Territory UN Region  Estimate       Year Estimate.1     Year.1  \\\n",
       "0             World         -  93863851       2021   87461674       2020   \n",
       "1     United States  Americas  25346805       2022   20893746       2020   \n",
       "2             China      Asia  19911593  [n 2]2022   14722801  [n 3]2020   \n",
       "3             Japan      Asia   4912147       2022    5057759       2020   \n",
       "4           Germany    Europe   4256540       2022    3846414       2020   \n",
       "\n",
       "  Estimate.2 Year.2  \n",
       "0   84705567   2020  \n",
       "1   20936600   2020  \n",
       "2   14722731   2020  \n",
       "3    4975415   2020  \n",
       "4    3806060   2020  "
      ]
     },
     "execution_count": 7,
     "metadata": {},
     "output_type": "execute_result"
    }
   ],
   "source": [
    "df_countries.head()"
   ]
  },
  {
   "cell_type": "code",
   "execution_count": 10,
   "metadata": {},
   "outputs": [],
   "source": [
    "df_countries.rename({\"Country/Territory\":\"country\",\"UN Region\":\"region\",\"Year\":\"year\"},inplace=True,axis=1)"
   ]
  },
  {
   "cell_type": "code",
   "execution_count": 11,
   "metadata": {},
   "outputs": [
    {
     "data": {
      "text/plain": [
       "(217, 8)"
      ]
     },
     "execution_count": 11,
     "metadata": {},
     "output_type": "execute_result"
    }
   ],
   "source": [
    "df_countries.shape"
   ]
  },
  {
   "cell_type": "code",
   "execution_count": 12,
   "metadata": {},
   "outputs": [],
   "source": [
    "df_country = df_countries.loc[:,[\"country\",\"region\",\"Estimate\",\"year\"]]"
   ]
  },
  {
   "cell_type": "code",
   "execution_count": 13,
   "metadata": {},
   "outputs": [
    {
     "data": {
      "text/html": [
       "<div>\n",
       "<style scoped>\n",
       "    .dataframe tbody tr th:only-of-type {\n",
       "        vertical-align: middle;\n",
       "    }\n",
       "\n",
       "    .dataframe tbody tr th {\n",
       "        vertical-align: top;\n",
       "    }\n",
       "\n",
       "    .dataframe thead th {\n",
       "        text-align: right;\n",
       "    }\n",
       "</style>\n",
       "<table border=\"1\" class=\"dataframe\">\n",
       "  <thead>\n",
       "    <tr style=\"text-align: right;\">\n",
       "      <th></th>\n",
       "      <th>country</th>\n",
       "      <th>region</th>\n",
       "      <th>Estimate</th>\n",
       "      <th>year</th>\n",
       "    </tr>\n",
       "  </thead>\n",
       "  <tbody>\n",
       "    <tr>\n",
       "      <th>0</th>\n",
       "      <td>World</td>\n",
       "      <td>-</td>\n",
       "      <td>93863851</td>\n",
       "      <td>2021</td>\n",
       "    </tr>\n",
       "    <tr>\n",
       "      <th>1</th>\n",
       "      <td>United States</td>\n",
       "      <td>Americas</td>\n",
       "      <td>25346805</td>\n",
       "      <td>2022</td>\n",
       "    </tr>\n",
       "    <tr>\n",
       "      <th>2</th>\n",
       "      <td>China</td>\n",
       "      <td>Asia</td>\n",
       "      <td>19911593</td>\n",
       "      <td>[n 2]2022</td>\n",
       "    </tr>\n",
       "    <tr>\n",
       "      <th>3</th>\n",
       "      <td>Japan</td>\n",
       "      <td>Asia</td>\n",
       "      <td>4912147</td>\n",
       "      <td>2022</td>\n",
       "    </tr>\n",
       "    <tr>\n",
       "      <th>4</th>\n",
       "      <td>Germany</td>\n",
       "      <td>Europe</td>\n",
       "      <td>4256540</td>\n",
       "      <td>2022</td>\n",
       "    </tr>\n",
       "  </tbody>\n",
       "</table>\n",
       "</div>"
      ],
      "text/plain": [
       "         country    region  Estimate       year\n",
       "0          World         -  93863851       2021\n",
       "1  United States  Americas  25346805       2022\n",
       "2          China      Asia  19911593  [n 2]2022\n",
       "3          Japan      Asia   4912147       2022\n",
       "4        Germany    Europe   4256540       2022"
      ]
     },
     "execution_count": 13,
     "metadata": {},
     "output_type": "execute_result"
    }
   ],
   "source": [
    "df_country.head()"
   ]
  },
  {
   "cell_type": "code",
   "execution_count": 16,
   "metadata": {},
   "outputs": [
    {
     "name": "stderr",
     "output_type": "stream",
     "text": [
      "C:\\Users\\Mohamed\\AppData\\Local\\Temp/ipykernel_9712/461740695.py:1: FutureWarning: The default value of regex will change from True to False in a future version.\n",
      "  df_country['year'].str.replace(\"[n 2]\",'')\n"
     ]
    },
    {
     "data": {
      "text/plain": [
       "0       01\n",
       "1        0\n",
       "2      []0\n",
       "3        0\n",
       "4        0\n",
       "      ... \n",
       "212      0\n",
       "213      0\n",
       "214      0\n",
       "215      —\n",
       "216      0\n",
       "Name: year, Length: 217, dtype: object"
      ]
     },
     "execution_count": 16,
     "metadata": {},
     "output_type": "execute_result"
    }
   ],
   "source": [
    "df_country['year'].str.replace(\"[n 2]\",'')"
   ]
  },
  {
   "cell_type": "code",
   "execution_count": 18,
   "metadata": {},
   "outputs": [
    {
     "name": "stdout",
     "output_type": "stream",
     "text": [
      "<class 'pandas.core.frame.DataFrame'>\n",
      "RangeIndex: 217 entries, 0 to 216\n",
      "Data columns (total 4 columns):\n",
      " #   Column    Non-Null Count  Dtype \n",
      "---  ------    --------------  ----- \n",
      " 0   country   217 non-null    object\n",
      " 1   region    217 non-null    object\n",
      " 2   Estimate  217 non-null    object\n",
      " 3   year      217 non-null    object\n",
      "dtypes: object(4)\n",
      "memory usage: 6.9+ KB\n"
     ]
    }
   ],
   "source": [
    "df_country.info()"
   ]
  },
  {
   "cell_type": "code",
   "execution_count": 22,
   "metadata": {},
   "outputs": [
    {
     "data": {
      "text/plain": [
       "2022          185\n",
       "—              20\n",
       "2021            3\n",
       "[n 2]2022       1\n",
       "[n 5]2022       1\n",
       "[n 6]2022       1\n",
       "[n 7]2021       1\n",
       "2020            1\n",
       "[n 10]2022      1\n",
       "[n 13]2022      1\n",
       "2010            1\n",
       "[n 14]2022      1\n",
       "Name: year, dtype: int64"
      ]
     },
     "execution_count": 22,
     "metadata": {},
     "output_type": "execute_result"
    }
   ],
   "source": [
    "df_country['year'].value_counts()"
   ]
  },
  {
   "cell_type": "code",
   "execution_count": 52,
   "metadata": {},
   "outputs": [
    {
     "name": "stderr",
     "output_type": "stream",
     "text": [
      "C:\\Users\\Mohamed\\AppData\\Local\\Temp/ipykernel_9712/2447994354.py:2: FutureWarning: The default value of regex will change from True to False in a future version.\n",
      "  df_country['year'] = df_country['year'].str.replace(r\"\\[n\\s\\d{1,2}]\",\"\")\n"
     ]
    }
   ],
   "source": [
    "import re \n",
    "df_country['year'] = df_country['year'].str.replace(r\"\\[n\\s\\d{1,2}]\",\"\")"
   ]
  },
  {
   "cell_type": "code",
   "execution_count": 53,
   "metadata": {},
   "outputs": [
    {
     "data": {
      "text/plain": [
       "2022    191\n",
       "—        20\n",
       "2021      4\n",
       "2020      1\n",
       "2010      1\n",
       "Name: year, dtype: int64"
      ]
     },
     "execution_count": 53,
     "metadata": {},
     "output_type": "execute_result"
    }
   ],
   "source": [
    "df_country['year'].value_counts()"
   ]
  },
  {
   "cell_type": "code",
   "execution_count": 75,
   "metadata": {},
   "outputs": [
    {
     "data": {
      "text/html": [
       "<div>\n",
       "<style scoped>\n",
       "    .dataframe tbody tr th:only-of-type {\n",
       "        vertical-align: middle;\n",
       "    }\n",
       "\n",
       "    .dataframe tbody tr th {\n",
       "        vertical-align: top;\n",
       "    }\n",
       "\n",
       "    .dataframe thead th {\n",
       "        text-align: right;\n",
       "    }\n",
       "</style>\n",
       "<table border=\"1\" class=\"dataframe\">\n",
       "  <thead>\n",
       "    <tr style=\"text-align: right;\">\n",
       "      <th></th>\n",
       "      <th>country</th>\n",
       "      <th>region</th>\n",
       "      <th>Estimate</th>\n",
       "      <th>year</th>\n",
       "    </tr>\n",
       "  </thead>\n",
       "  <tbody>\n",
       "    <tr>\n",
       "      <th>68</th>\n",
       "      <td>Cuba</td>\n",
       "      <td>Americas</td>\n",
       "      <td>—</td>\n",
       "      <td>—</td>\n",
       "    </tr>\n",
       "    <tr>\n",
       "      <th>135</th>\n",
       "      <td>North Korea</td>\n",
       "      <td>Asia</td>\n",
       "      <td>—</td>\n",
       "      <td>—</td>\n",
       "    </tr>\n",
       "    <tr>\n",
       "      <th>151</th>\n",
       "      <td>New Caledonia</td>\n",
       "      <td>Oceania</td>\n",
       "      <td>—</td>\n",
       "      <td>—</td>\n",
       "    </tr>\n",
       "    <tr>\n",
       "      <th>158</th>\n",
       "      <td>Bermuda</td>\n",
       "      <td>Americas</td>\n",
       "      <td>—</td>\n",
       "      <td>—</td>\n",
       "    </tr>\n",
       "    <tr>\n",
       "      <th>159</th>\n",
       "      <td>Liechtenstein</td>\n",
       "      <td>Europe</td>\n",
       "      <td>—</td>\n",
       "      <td>—</td>\n",
       "    </tr>\n",
       "    <tr>\n",
       "      <th>160</th>\n",
       "      <td>Monaco</td>\n",
       "      <td>Europe</td>\n",
       "      <td>—</td>\n",
       "      <td>—</td>\n",
       "    </tr>\n",
       "    <tr>\n",
       "      <th>161</th>\n",
       "      <td>Cayman Islands</td>\n",
       "      <td>Americas</td>\n",
       "      <td>—</td>\n",
       "      <td>—</td>\n",
       "    </tr>\n",
       "    <tr>\n",
       "      <th>163</th>\n",
       "      <td>Guam</td>\n",
       "      <td>Oceania</td>\n",
       "      <td>—</td>\n",
       "      <td>—</td>\n",
       "    </tr>\n",
       "    <tr>\n",
       "      <th>164</th>\n",
       "      <td>French Polynesia</td>\n",
       "      <td>Oceania</td>\n",
       "      <td>—</td>\n",
       "      <td>—</td>\n",
       "    </tr>\n",
       "    <tr>\n",
       "      <th>176</th>\n",
       "      <td>Greenland</td>\n",
       "      <td>Americas</td>\n",
       "      <td>—</td>\n",
       "      <td>—</td>\n",
       "    </tr>\n",
       "    <tr>\n",
       "      <th>180</th>\n",
       "      <td>Curaçao</td>\n",
       "      <td>Americas</td>\n",
       "      <td>—</td>\n",
       "      <td>—</td>\n",
       "    </tr>\n",
       "    <tr>\n",
       "      <th>189</th>\n",
       "      <td>Zanzibar</td>\n",
       "      <td>Africa</td>\n",
       "      <td>—</td>\n",
       "      <td>—</td>\n",
       "    </tr>\n",
       "    <tr>\n",
       "      <th>194</th>\n",
       "      <td>British Virgin Islands</td>\n",
       "      <td>Americas</td>\n",
       "      <td>—</td>\n",
       "      <td>—</td>\n",
       "    </tr>\n",
       "    <tr>\n",
       "      <th>197</th>\n",
       "      <td>Northern Mariana Islands</td>\n",
       "      <td>Oceania</td>\n",
       "      <td>—</td>\n",
       "      <td>—</td>\n",
       "    </tr>\n",
       "    <tr>\n",
       "      <th>201</th>\n",
       "      <td>Turks and Caicos Islands</td>\n",
       "      <td>Americas</td>\n",
       "      <td>—</td>\n",
       "      <td>—</td>\n",
       "    </tr>\n",
       "    <tr>\n",
       "      <th>202</th>\n",
       "      <td>Sint Maarten</td>\n",
       "      <td>Americas</td>\n",
       "      <td>—</td>\n",
       "      <td>—</td>\n",
       "    </tr>\n",
       "    <tr>\n",
       "      <th>204</th>\n",
       "      <td>American Samoa</td>\n",
       "      <td>Oceania</td>\n",
       "      <td>—</td>\n",
       "      <td>—</td>\n",
       "    </tr>\n",
       "    <tr>\n",
       "      <th>209</th>\n",
       "      <td>Cook Islands</td>\n",
       "      <td>Oceania</td>\n",
       "      <td>—</td>\n",
       "      <td>—</td>\n",
       "    </tr>\n",
       "    <tr>\n",
       "      <th>211</th>\n",
       "      <td>Anguilla</td>\n",
       "      <td>Americas</td>\n",
       "      <td>—</td>\n",
       "      <td>—</td>\n",
       "    </tr>\n",
       "    <tr>\n",
       "      <th>215</th>\n",
       "      <td>Montserrat</td>\n",
       "      <td>Americas</td>\n",
       "      <td>—</td>\n",
       "      <td>—</td>\n",
       "    </tr>\n",
       "  </tbody>\n",
       "</table>\n",
       "</div>"
      ],
      "text/plain": [
       "                      country    region Estimate year\n",
       "68                       Cuba  Americas        —    —\n",
       "135               North Korea      Asia        —    —\n",
       "151             New Caledonia   Oceania        —    —\n",
       "158                   Bermuda  Americas        —    —\n",
       "159             Liechtenstein    Europe        —    —\n",
       "160                    Monaco    Europe        —    —\n",
       "161            Cayman Islands  Americas        —    —\n",
       "163                      Guam   Oceania        —    —\n",
       "164          French Polynesia   Oceania        —    —\n",
       "176                 Greenland  Americas        —    —\n",
       "180                   Curaçao  Americas        —    —\n",
       "189                  Zanzibar    Africa        —    —\n",
       "194    British Virgin Islands  Americas        —    —\n",
       "197  Northern Mariana Islands   Oceania        —    —\n",
       "201  Turks and Caicos Islands  Americas        —    —\n",
       "202              Sint Maarten  Americas        —    —\n",
       "204            American Samoa   Oceania        —    —\n",
       "209              Cook Islands   Oceania        —    —\n",
       "211                  Anguilla  Americas        —    —\n",
       "215                Montserrat  Americas        —    —"
      ]
     },
     "execution_count": 75,
     "metadata": {},
     "output_type": "execute_result"
    }
   ],
   "source": [
    "df_country[df_country['year'] == '—']"
   ]
  },
  {
   "cell_type": "code",
   "execution_count": 79,
   "metadata": {},
   "outputs": [],
   "source": [
    "df_country = df_country[df_country[\"year\"].isin(['2022', '2021', '2020', '2010'])]"
   ]
  },
  {
   "cell_type": "code",
   "execution_count": 81,
   "metadata": {},
   "outputs": [
    {
     "data": {
      "text/plain": [
       "2022    191\n",
       "2021      4\n",
       "2020      1\n",
       "2010      1\n",
       "Name: year, dtype: int64"
      ]
     },
     "execution_count": 81,
     "metadata": {},
     "output_type": "execute_result"
    }
   ],
   "source": [
    "df_country['year'].value_counts()"
   ]
  },
  {
   "cell_type": "code",
   "execution_count": 82,
   "metadata": {},
   "outputs": [
    {
     "name": "stdout",
     "output_type": "stream",
     "text": [
      "<class 'pandas.core.frame.DataFrame'>\n",
      "Int64Index: 197 entries, 0 to 216\n",
      "Data columns (total 4 columns):\n",
      " #   Column    Non-Null Count  Dtype \n",
      "---  ------    --------------  ----- \n",
      " 0   country   197 non-null    object\n",
      " 1   region    197 non-null    object\n",
      " 2   Estimate  197 non-null    object\n",
      " 3   year      197 non-null    object\n",
      "dtypes: object(4)\n",
      "memory usage: 7.7+ KB\n"
     ]
    }
   ],
   "source": [
    "df_country.info()"
   ]
  },
  {
   "cell_type": "code",
   "execution_count": 85,
   "metadata": {},
   "outputs": [
    {
     "name": "stderr",
     "output_type": "stream",
     "text": [
      "C:\\Users\\Mohamed\\AppData\\Local\\Temp/ipykernel_9712/222950058.py:1: FutureWarning: The default value of regex will change from True to False in a future version.\n",
      "  df_country['Estimate'] = df_country['Estimate'].str.replace(r\"\\[n\\s\\d{1,2}]\",\"\")\n",
      "C:\\Users\\Mohamed\\AppData\\Local\\Temp/ipykernel_9712/222950058.py:1: SettingWithCopyWarning: \n",
      "A value is trying to be set on a copy of a slice from a DataFrame.\n",
      "Try using .loc[row_indexer,col_indexer] = value instead\n",
      "\n",
      "See the caveats in the documentation: https://pandas.pydata.org/pandas-docs/stable/user_guide/indexing.html#returning-a-view-versus-a-copy\n",
      "  df_country['Estimate'] = df_country['Estimate'].str.replace(r\"\\[n\\s\\d{1,2}]\",\"\")\n"
     ]
    }
   ],
   "source": [
    "df_country['Estimate'] = df_country['Estimate'].str.replace(r\"\\[n\\s\\d{1,2}]\",\"\")"
   ]
  },
  {
   "cell_type": "code",
   "execution_count": 86,
   "metadata": {},
   "outputs": [
    {
     "data": {
      "text/html": [
       "<div>\n",
       "<style scoped>\n",
       "    .dataframe tbody tr th:only-of-type {\n",
       "        vertical-align: middle;\n",
       "    }\n",
       "\n",
       "    .dataframe tbody tr th {\n",
       "        vertical-align: top;\n",
       "    }\n",
       "\n",
       "    .dataframe thead th {\n",
       "        text-align: right;\n",
       "    }\n",
       "</style>\n",
       "<table border=\"1\" class=\"dataframe\">\n",
       "  <thead>\n",
       "    <tr style=\"text-align: right;\">\n",
       "      <th></th>\n",
       "      <th>country</th>\n",
       "      <th>Estimate</th>\n",
       "      <th>year</th>\n",
       "    </tr>\n",
       "    <tr>\n",
       "      <th>region</th>\n",
       "      <th></th>\n",
       "      <th></th>\n",
       "      <th></th>\n",
       "    </tr>\n",
       "  </thead>\n",
       "  <tbody>\n",
       "    <tr>\n",
       "      <th>-</th>\n",
       "      <td>World</td>\n",
       "      <td>93863851</td>\n",
       "      <td>2021</td>\n",
       "    </tr>\n",
       "    <tr>\n",
       "      <th>Africa</th>\n",
       "      <td>Zimbabwe</td>\n",
       "      <td>9280</td>\n",
       "      <td>2022</td>\n",
       "    </tr>\n",
       "    <tr>\n",
       "      <th>Americas</th>\n",
       "      <td>Venezuela</td>\n",
       "      <td>953</td>\n",
       "      <td>2022</td>\n",
       "    </tr>\n",
       "    <tr>\n",
       "      <th>Asia</th>\n",
       "      <td>Yemen</td>\n",
       "      <td>9017</td>\n",
       "      <td>2022</td>\n",
       "    </tr>\n",
       "    <tr>\n",
       "      <th>Europe</th>\n",
       "      <td>United Kingdom</td>\n",
       "      <td>9660</td>\n",
       "      <td>2022</td>\n",
       "    </tr>\n",
       "    <tr>\n",
       "      <th>Oceania</th>\n",
       "      <td>Vanuatu</td>\n",
       "      <td>816</td>\n",
       "      <td>2022</td>\n",
       "    </tr>\n",
       "  </tbody>\n",
       "</table>\n",
       "</div>"
      ],
      "text/plain": [
       "                 country  Estimate  year\n",
       "region                                  \n",
       "-                  World  93863851  2021\n",
       "Africa          Zimbabwe      9280  2022\n",
       "Americas       Venezuela       953  2022\n",
       "Asia               Yemen      9017  2022\n",
       "Europe    United Kingdom      9660  2022\n",
       "Oceania          Vanuatu       816  2022"
      ]
     },
     "execution_count": 86,
     "metadata": {},
     "output_type": "execute_result"
    }
   ],
   "source": [
    "df_country.groupby('region').max()"
   ]
  },
  {
   "cell_type": "code",
   "execution_count": 88,
   "metadata": {},
   "outputs": [
    {
     "data": {
      "text/plain": [
       "114     27726\n",
       "205       635\n",
       "212       244\n",
       "191      1669\n",
       "169      4646\n",
       "67     109080\n",
       "23     692380\n",
       "32     501354\n",
       "75      76591\n",
       "190      1698\n",
       "115     26665\n",
       "132     17251\n",
       "210       267\n",
       "64     115462\n",
       "61     124862\n",
       "214       134\n",
       "146     12938\n",
       "66     110127\n",
       "216        66\n",
       "152      9660\n",
       "Name: Estimate, dtype: object"
      ]
     },
     "execution_count": 88,
     "metadata": {},
     "output_type": "execute_result"
    }
   ],
   "source": []
  },
  {
   "cell_type": "code",
   "execution_count": null,
   "metadata": {},
   "outputs": [],
   "source": []
  }
 ],
 "metadata": {
  "kernelspec": {
   "display_name": "Python 3.9.7 ('base')",
   "language": "python",
   "name": "python3"
  },
  "language_info": {
   "codemirror_mode": {
    "name": "ipython",
    "version": 3
   },
   "file_extension": ".py",
   "mimetype": "text/x-python",
   "name": "python",
   "nbconvert_exporter": "python",
   "pygments_lexer": "ipython3",
   "version": "3.9.7"
  },
  "orig_nbformat": 4,
  "vscode": {
   "interpreter": {
    "hash": "f96ca07c2f11cddb146a82a828fdea97da61bfab0af1bcfdd8f1a17e1766d1fa"
   }
  }
 },
 "nbformat": 4,
 "nbformat_minor": 2
}
